{
 "cells": [
  {
   "cell_type": "code",
   "execution_count": 1,
   "metadata": {},
   "outputs": [],
   "source": [
    "import pandas as pd\n",
    "import os \n",
    "import csv"
   ]
  },
  {
   "cell_type": "code",
   "execution_count": 2,
   "metadata": {},
   "outputs": [],
   "source": [
    "#reading in bacteria list\n",
    "\n",
    "with open('bac_list.csv') as f:\n",
    "    reader = csv.reader(f)\n",
    "    blist = list(reader)\n",
    "\n",
    "bacteria = []\n",
    "\n",
    "for bac in blist[2:]:\n",
    "    if len(bac) > 0:\n",
    "         bacteria += bac[0].split(' ')"
   ]
  },
  {
   "cell_type": "code",
   "execution_count": 3,
   "metadata": {},
   "outputs": [],
   "source": [
    "# Function to break into paragraphs\n",
    "\n",
    "\n",
    "def paras(doc): \n",
    "    \n",
    "    paras = doc.split('\\n\\n')\n",
    "    paras = [para for para in paras if (len(para) > 25)]\n",
    "    \n",
    "    return paras\n",
    "    \n",
    "\n",
    "# Function to only keep paragraphs w/terms appearing in bacteria list\n",
    "    \n",
    "def bacfilter(paras, blist):\n",
    "    \n",
    "    tokeep = []\n",
    "    \n",
    "    for para in paras:\n",
    "        temp = para.lower()\n",
    "        if any(check in temp.split(' ') for check in blist):\n",
    "            tokeep.append(para)\n",
    "    \n",
    "    return tokeep"
   ]
  },
  {
   "cell_type": "code",
   "execution_count": 4,
   "metadata": {},
   "outputs": [],
   "source": [
    "txtfiles = os.listdir(\"Data/TxtData\")\n",
    "\n",
    "for txtfile in txtfiles:\n",
    "    \n",
    "    with open(\"Data/TxtData/\"+ txtfile, \"r\") as f:\n",
    "        doc = f.read()\n",
    "    \n",
    "    topara = paras(doc)\n",
    "    filtered = bacfilter(topara, bacteria)\n",
    "    \n",
    "    filtdoc = \"\\n\".join(filtered)\n",
    "    \n",
    "    path = \"Data/Filtered/\" + txtfile[:-4] + \"_FILTERED.txt\"\n",
    "    \n",
    "    with open(path, \"w\") as f:\n",
    "        f.write(filtdoc)\n"
   ]
  },
  {
   "cell_type": "code",
   "execution_count": null,
   "metadata": {},
   "outputs": [],
   "source": []
  }
 ],
 "metadata": {
  "kernelspec": {
   "display_name": "Python 3",
   "language": "python",
   "name": "python3"
  },
  "language_info": {
   "codemirror_mode": {
    "name": "ipython",
    "version": 3
   },
   "file_extension": ".py",
   "mimetype": "text/x-python",
   "name": "python",
   "nbconvert_exporter": "python",
   "pygments_lexer": "ipython3",
   "version": "3.8.2"
  }
 },
 "nbformat": 4,
 "nbformat_minor": 4
}
