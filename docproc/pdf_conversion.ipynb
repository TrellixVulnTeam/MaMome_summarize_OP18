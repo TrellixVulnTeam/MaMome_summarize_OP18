{
 "cells": [
  {
   "cell_type": "code",
   "execution_count": 1,
   "metadata": {},
   "outputs": [],
   "source": [
    "import io\n",
    "import os\n",
    "\n",
    "from pdfminer.pdfparser import PDFParser\n",
    "from pdfminer.converter import TextConverter\n",
    "from pdfminer.layout import LAParams\n",
    "from pdfminer.pdfdocument import PDFDocument\n",
    "from pdfminer.pdfpage import PDFPage, PDFTextExtractionNotAllowed \n",
    "from pdfminer.pdfinterp import PDFResourceManager, PDFPageInterpreter\n",
    "from pdfminer.pdfdevice import PDFDevice\n",
    "from pdfminer.pdfinterp import resolve1\n",
    "\n"
   ]
  },
  {
   "cell_type": "code",
   "execution_count": 2,
   "metadata": {},
   "outputs": [],
   "source": [
    "# Generate list of curated PDFs\n",
    "os.chdir(\"../MaMomePDFs\")\n",
    "pdfs = os.listdir(\".\")\n"
   ]
  },
  {
   "cell_type": "code",
   "execution_count": 3,
   "metadata": {},
   "outputs": [],
   "source": [
    "#Fxn to extract text from .pdfs\n",
    "\n",
    "def pdfextract(pdf):\n",
    "    \n",
    "\n",
    "    with open(pdf, 'rb') as in_file:\n",
    "        parser = PDFParser(in_file)\n",
    "        doc = PDFDocument(parser)\n",
    "        \n",
    "        if not doc.is_extractable:\n",
    "            print(pdf)\n",
    "            raise PDFTextExtractionNotAllowed\n",
    "\n",
    "        output_string = io.StringIO()\n",
    "        rsrcmgr = PDFResourceManager()\n",
    "        device = TextConverter(rsrcmgr, output_string, laparams=LAParams(detect_vertical = True))\n",
    "        interpreter = PDFPageInterpreter(rsrcmgr, device)\n",
    "        \n",
    "        \n",
    "        # Drop first page w/abstract and header info and some references if not very short .pdf\n",
    "        \n",
    "        if (resolve1(doc.catalog['Pages'])!= None): \n",
    "            doclength = resolve1(doc.catalog['Pages'])['Count']\n",
    "            \n",
    "       \n",
    "            for pageNumber, page in enumerate(PDFPage.get_pages(in_file)):\n",
    "                if (pageNumber > 0) and (pageNumber < doclength) and (doclength >= 3):\n",
    "                    interpreter.process_page(page)\n",
    "                    \n",
    "        else:\n",
    "\n",
    "            for pageNumber, page in enumerate(PDFPage.get_pages(in_file)):\n",
    "                interpreter.process_page(page)\n",
    "\n",
    "            \n",
    "        return output_string.getvalue()"
   ]
  },
  {
   "cell_type": "code",
   "execution_count": 4,
   "metadata": {},
   "outputs": [],
   "source": [
    "# Extract text from .pdfs and write to .txt files\n",
    "\n",
    "for pdf in pdfs:\n",
    " \n",
    "    text = pdfextract(pdf)\n",
    "    \n",
    "    file = \"../docproc/TxtData/\" + pdf[:-4] + \".txt\"\n",
    "    \n",
    "    with open(file, \"w\") as f:\n",
    "        f.write(text)\n"
   ]
  },
  {
   "cell_type": "code",
   "execution_count": null,
   "metadata": {},
   "outputs": [],
   "source": []
  }
 ],
 "metadata": {
  "kernelspec": {
   "display_name": "Python 3",
   "language": "python",
   "name": "python3"
  },
  "language_info": {
   "codemirror_mode": {
    "name": "ipython",
    "version": 3
   },
   "file_extension": ".py",
   "mimetype": "text/x-python",
   "name": "python",
   "nbconvert_exporter": "python",
   "pygments_lexer": "ipython3",
   "version": "3.8.2"
  }
 },
 "nbformat": 4,
 "nbformat_minor": 4
}
