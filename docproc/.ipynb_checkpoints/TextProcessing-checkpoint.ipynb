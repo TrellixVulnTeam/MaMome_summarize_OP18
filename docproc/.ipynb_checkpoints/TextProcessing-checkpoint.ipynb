{
 "cells": [
  {
   "cell_type": "code",
   "execution_count": 1,
   "metadata": {},
   "outputs": [],
   "source": [
    "import pandas as pd\n",
    "import os \n",
    "import csv\n",
    "import re"
   ]
  },
  {
   "cell_type": "code",
   "execution_count": 2,
   "metadata": {},
   "outputs": [],
   "source": [
    "#reading in bacteria list\n",
    "\n",
    "with open('bac_list.csv') as f:\n",
    "    reader = csv.reader(f)\n",
    "    blist = list(reader)\n",
    "\n",
    "bacteria = []\n",
    "\n",
    "for bac in blist[2:]:\n",
    "    if len(bac) > 0:\n",
    "         bacteria += bac[0].split(' ')"
   ]
  },
  {
   "cell_type": "code",
   "execution_count": 3,
   "metadata": {},
   "outputs": [],
   "source": [
    "# fxn to truncate at references section\n",
    "\n",
    "def refclean(doc):\n",
    "    \n",
    "    citepat1 = re.compile('(1\\.\\s [A-Z].*\\n.*\\n)')\n",
    "    citepat2 = re.compile('(\\nREFERENCES\\n)', re.IGNORECASE)\n",
    "\n",
    "    temp = citepat2.split(doc, maxsplit=1)\n",
    "\n",
    "    if len(temp) > 1:\n",
    "        cleaned = temp[0]\n",
    "        \n",
    "    else:\n",
    "        temp2 = citepat1.split(doc)\n",
    "\n",
    "        if len(temp2) > 1:\n",
    "            if len(temp2) > 2:\n",
    "                cleaned = ' '.join(temp[:-1])\n",
    "            else:\n",
    "                cleaned = temp2[0]\n",
    "        else:\n",
    "            cleaned = temp2\n",
    "            \n",
    "    return cleaned\n",
    "\n",
    "#fxn to remove urls\n",
    "\n",
    "def urlclean(doc):\n",
    "    \n",
    "    urlpat = re.compile('http[s]?://(?:[a-zA-Z]|[0-9]|[$-_@.&+]|[!*\\(\\),]|(?:%[0-9a-fA-F][0-9a-fA-F]))+')\n",
    "    \n",
    "    try:\n",
    "        cleaned = re.sub(urlpat, ' ', doc)\n",
    "    except:\n",
    "        cleaned = doc\n",
    "        \n",
    "    return cleaned\n",
    "    \n",
    "\n",
    "# fxn to break into paragraphs\n",
    "\n",
    "def paras(doc): \n",
    "    \n",
    "    paras = doc.split('\\n\\n')\n",
    "    paras = [para for para in paras if (len(para) > 50)]\n",
    "    \n",
    "    return paras\n",
    "    \n",
    "\n",
    "# fxn to only keep paragraphs w/terms appearing in bacteria list\n",
    "    \n",
    "def bacfilter(paras, blist):\n",
    "    \n",
    "    tokeep = []\n",
    "    \n",
    "    for para in paras:\n",
    "        temp = para.lower()\n",
    "        if any(check in temp.split(' ') for check in blist):\n",
    "            tokeep.append(para)\n",
    "    \n",
    "    return tokeep"
   ]
  },
  {
   "cell_type": "code",
   "execution_count": 4,
   "metadata": {},
   "outputs": [
    {
     "name": "stdout",
     "output_type": "stream",
     "text": [
      "inline-supplementary-material-1.txtno paras\n",
      "ML_16S rRNA gene sequencing using a k-mer based representation of shallow sub-samples.txtno paras\n",
      "The gut microbiome of healthy long‐living people.txtno paras\n",
      "Pre-Eclampsia- microbiota possibly playing a role.txtno paras\n",
      "Estrogen-mediated gut microbiome alterations influence sexual dimorphism in metabolic syndrome in mice.txtno paras\n",
      "METAGENOMICS- Genomic Analysis of Microbial Communities.txtno paras\n",
      "nihms900158_A Gradient Boosting Machine for Hierarchically Clustered Data.txtno paras\n",
      "Nature Medicine Volume issue 2019 [doi 10.1038_s41591-019-0483-6] Dominguez-Bello, Maria Gloria -- Gestational shaping of the maternal vaginal microbiome (1).txtno paras\n"
     ]
    }
   ],
   "source": [
    "# Reading in and processing raw .txt files then writing filtered & cleaned to file\n",
    "txtfiles = os.listdir(\"TxtData\")\n",
    "\n",
    "\n",
    "for txtfile in txtfiles:\n",
    "    \n",
    "    with open(\"TxtData/\"+ txtfile, \"r\") as f:\n",
    "        doc = f.read()\n",
    "    \n",
    "    \n",
    "    clean1 = refclean(doc)\n",
    "    clean2 = urlclean(clean1)\n",
    "\n",
    "    try:\n",
    "        topara = paras(clean2)\n",
    "    except:\n",
    "        print(txtfile + 'no paras')\n",
    "        continue\n",
    "        \n",
    "  \n",
    "    filtered = bacfilter(topara, bacteria)\n",
    "    \n",
    "    filtdoc = \"\\n\".join(filtered)\n",
    "    \n",
    "    path = \"Filtered0/\" + txtfile[:-4] + \"_FILTERED.txt\"\n",
    "    \n",
    "    with open(path, \"w\") as f:\n",
    "        f.write(filtdoc)\n"
   ]
  },
  {
   "cell_type": "code",
   "execution_count": null,
   "metadata": {},
   "outputs": [],
   "source": []
  }
 ],
 "metadata": {
  "kernelspec": {
   "display_name": "Python 3",
   "language": "python",
   "name": "python3"
  },
  "language_info": {
   "codemirror_mode": {
    "name": "ipython",
    "version": 3
   },
   "file_extension": ".py",
   "mimetype": "text/x-python",
   "name": "python",
   "nbconvert_exporter": "python",
   "pygments_lexer": "ipython3",
   "version": "3.8.2"
  }
 },
 "nbformat": 4,
 "nbformat_minor": 4
}
