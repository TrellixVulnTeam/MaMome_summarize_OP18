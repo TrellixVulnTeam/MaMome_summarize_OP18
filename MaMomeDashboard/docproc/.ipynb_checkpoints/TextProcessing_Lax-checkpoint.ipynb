{
 "cells": [
  {
   "cell_type": "code",
   "execution_count": 1,
   "metadata": {},
   "outputs": [],
   "source": [
    "import pandas as pd\n",
    "import os \n",
    "import csv\n",
    "import re\n"
   ]
  },
  {
   "cell_type": "code",
   "execution_count": 2,
   "metadata": {},
   "outputs": [],
   "source": [
    "# fxn to truncate at references section\n",
    "\n",
    "def refclean(doc):\n",
    "    \n",
    "    citepat1 = re.compile('(1\\.\\s [A-Z].*\\n.*\\n)')\n",
    "    citepat2 = re.compile('(\\nREFERENCES\\n)', re.IGNORECASE)\n",
    "\n",
    "    temp = citepat2.split(doc, maxsplit=1)\n",
    "\n",
    "    if len(temp) > 1:\n",
    "        cleaned = temp[0]\n",
    "        \n",
    "    else:\n",
    "        temp2 = citepat1.split(doc)\n",
    "\n",
    "        if len(temp2) > 1:\n",
    "            if len(temp2) > 2:\n",
    "                cleaned = ' '.join(temp[:-1])\n",
    "            else:\n",
    "                cleaned = temp2[0]\n",
    "        else:\n",
    "            cleaned = temp2\n",
    "            \n",
    "    return cleaned\n",
    "\n",
    "#fxn to remove urls\n",
    "\n",
    "\n",
    "\n",
    "def clean(doc):\n",
    "\n",
    "    cleaned = re.sub(r\"http\\S+\", \"\", doc)\n",
    "    cleaned = re.sub(r\"www\\S+\", \"\", doc, flags=re.IGNORECASE)\n",
    "    cleaned = re.sub(r\"DOI:\\S+\", \"\", doc, flags=re.IGNORECASE)\n",
    "    cleaned = re.sub(r\"\\((fig|figure|table)\\..*\\)\", \"\", cleaned, flags=re.IGNORECASE)\n",
    "    cleaned = re.sub(r\"(\\([0-9]*[0-9],*.*\\).?)\",\"\",cleaned)\n",
    "    cleaned = re.sub(r\"(\\[[0-9]*[0-9],*.*\\].?)\",\"\",cleaned)\n",
    "    \n",
    "    return cleaned\n",
    "    \n",
    "\n"
   ]
  },
  {
   "cell_type": "code",
   "execution_count": 3,
   "metadata": {},
   "outputs": [],
   "source": [
    "# Reading in and processing raw .txt files then writing filtered & cleaned to file\n",
    "txtfiles = os.listdir(\"Converted\")\n",
    "\n",
    "\n",
    "for txtfile in txtfiles:\n",
    "    \n",
    "    with open(\"Converted/\"+ txtfile, \"r\") as f:\n",
    "        doc = f.read()\n",
    "    \n",
    "    clean1 = refclean(str(doc))\n",
    "    clean2 = clean(str(clean1))\n",
    "    \n",
    "    path = \"TxtData/\" + txtfile[:-4] + \".txt\"\n",
    "    \n",
    "    if len(clean2) > 20:\n",
    "        with open(path, \"w\") as f:\n",
    "            f.write(clean2)\n",
    "    else:\n",
    "        with open(path, \"w\") as f:\n",
    "            f.write(\"0_PARAGRAPHS\\n\\n\" + \"UNABLE TO PROCESS FILE: \" + txtfile[:-4])\n",
    "\n"
   ]
  },
  {
   "cell_type": "code",
   "execution_count": null,
   "metadata": {},
   "outputs": [],
   "source": [
    "print(bacwords)"
   ]
  },
  {
   "cell_type": "code",
   "execution_count": null,
   "metadata": {},
   "outputs": [],
   "source": []
  }
 ],
 "metadata": {
  "kernelspec": {
   "display_name": "Python 3",
   "language": "python",
   "name": "python3"
  },
  "language_info": {
   "codemirror_mode": {
    "name": "ipython",
    "version": 3
   },
   "file_extension": ".py",
   "mimetype": "text/x-python",
   "name": "python",
   "nbconvert_exporter": "python",
   "pygments_lexer": "ipython3",
   "version": "3.8.2"
  }
 },
 "nbformat": 4,
 "nbformat_minor": 4
}
