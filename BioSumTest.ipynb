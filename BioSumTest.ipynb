{
 "cells": [
  {
   "cell_type": "code",
   "execution_count": 5,
   "metadata": {},
   "outputs": [],
   "source": [
    "import boto3\n",
    "import sagemaker\n",
    "import pandas as pd\n",
    "\n",
    "sess   = sagemaker.Session()\n",
    "bucket = sess.default_bucket()\n",
    "role = sagemaker.get_execution_role()\n",
    "region = boto3.Session().region_name\n",
    "\n",
    "sm = boto3.Session().client(service_name='sagemaker', region_name=region)"
   ]
  },
  {
   "cell_type": "code",
   "execution_count": 7,
   "metadata": {},
   "outputs": [],
   "source": [
    "! pip install -r requirements.txt -q"
   ]
  },
  {
   "cell_type": "code",
   "execution_count": 8,
   "metadata": {},
   "outputs": [],
   "source": [
    "from transformers import *\n",
    "from summarizer import Summarizer\n",
    "\n",
    "# Load model, model config and tokenizer via Transformers\n",
    "custom_config = AutoConfig.from_pretrained('monologg/biobert_v1.1_pubmed')\n",
    "custom_config.output_hidden_states=True\n",
    "custom_tokenizer = AutoTokenizer.from_pretrained('monologg/biobert_v1.1_pubmed')\n",
    "custom_model = AutoModel.from_pretrained(\"monologg/biobert_v1.1_pubmed\", config=custom_config)\n",
    "\n",
    "\n",
    "summed = Summarizer(custom_model=custom_model, custom_tokenizer=custom_tokenizer)\n"
   ]
  },
  {
   "cell_type": "code",
   "execution_count": 16,
   "metadata": {},
   "outputs": [],
   "source": [
    "with open('/root/test.txt',\"r\") as f:\n",
    "    body = f.read()\n",
    "    \n",
    "summary = ''.join(summed(body, ratio = .05))"
   ]
  },
  {
   "cell_type": "code",
   "execution_count": 17,
   "metadata": {},
   "outputs": [
    {
     "name": "stdout",
     "output_type": "stream",
     "text": [
      "Several healthy developmental processes such as pregnancy,\n",
      "fetal development,\n",
      "and infant development include a multitude of physiological changes: weight gain,\n",
      "hormonal, and metabolic changes, as well as immune changes. Although some research has started to link microbial dysbiosis and\n",
      "speciﬁc microbial populations with unhealthy pregnancy complications, it is important\n",
      "to ﬁrst understand the context of the natural healthy microbial changes occurring. While it was hypothesized over 100 years ago\n",
      "July 2016 | Volume 7 | Article 1031\n",
      "In this review, we describe the pronounced microbial\n",
      "changes\n",
      "female, as well as\n",
      "provide an overview of the initial exposure of the fetus to\n",
      "microbiota—from the placenta,\n",
      "through birth and infancy. Additionally, in overweight and obese pregnant\n",
      "women, speciﬁc metabolic hormones including insulin, gastric\n",
      "inhibitory polypeptide (GIP), and adipokines were found to be\n",
      "correlated with alterations in bacterial abundance, reinforcing\n",
      "a connection between the microbiota and metabolic hormones\n",
      "in pregnancy (Gomez-Arango et al., The\n",
      "postpartum vaginal microbiome was also characterized by\n",
      "gradual depletion of Lactobacillus species,\n",
      "increased alpha-\n",
      "diversity, and enrichment of bacteria associated with vaginosis,\n",
      "such as Actinobacteria, in 40% of the subjects at 6 weeks after\n",
      "birth (as opposed to only 2% of the subjects during pregnancy;\n",
      "MacIntyre et al., doi:\n",
      "10.1177/154405910508400905\n",
      "Manthey, C. F., Autran, C. A., Eckmann, L., and Bode, L. (2014).\n"
     ]
    }
   ],
   "source": [
    "print(summary)"
   ]
  },
  {
   "cell_type": "code",
   "execution_count": null,
   "metadata": {},
   "outputs": [],
   "source": []
  }
 ],
 "metadata": {
  "instance_type": "ml.t3.medium",
  "kernelspec": {
   "display_name": "Python 3 (Data Science)",
   "language": "python",
   "name": "python3__SAGEMAKER_INTERNAL__arn:aws:sagemaker:us-west-2:236514542706:image/datascience-1.0"
  },
  "language_info": {
   "codemirror_mode": {
    "name": "ipython",
    "version": 3
   },
   "file_extension": ".py",
   "mimetype": "text/x-python",
   "name": "python",
   "nbconvert_exporter": "python",
   "pygments_lexer": "ipython3",
   "version": "3.7.6"
  }
 },
 "nbformat": 4,
 "nbformat_minor": 4
}
