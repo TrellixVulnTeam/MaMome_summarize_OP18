{
 "cells": [
  {
   "cell_type": "code",
   "execution_count": null,
   "metadata": {},
   "outputs": [],
   "source": [
    "import boto3\n",
    "import sagemaker\n",
    "import pandas as pd\n",
    "\n",
    "sess   = sagemaker.Session()\n",
    "bucket = sess.default_bucket()\n",
    "role = sagemaker.get_execution_role()\n",
    "region = boto3.Session().region_name\n",
    "\n",
    "sm = boto3.Session().client(service_name='sagemaker', region_name=region)"
   ]
  },
  {
   "cell_type": "code",
   "execution_count": null,
   "metadata": {},
   "outputs": [],
   "source": [
    "! pip install -r requirements.txt -q"
   ]
  },
  {
   "cell_type": "code",
   "execution_count": null,
   "metadata": {},
   "outputs": [],
   "source": [
    "from transformers import *\n",
    "from summarizer import Summarizer\n",
    "\n",
    "# Load model, model config and tokenizer via Transformers\n",
    "custom_config = AutoConfig.from_pretrained('monologg/biobert_v1.1_pubmed')\n",
    "custom_config.output_hidden_states=True\n",
    "custom_tokenizer = AutoTokenizer.from_pretrained('monologg/biobert_v1.1_pubmed')\n",
    "custom_model = AutoModel.from_pretrained(\"monologg/biobert_v1.1_pubmed\", config=custom_config)\n",
    "\n",
    "\n",
    "#Create Summarizer object\n",
    "summed = Summarizer(custom_model=custom_model, custom_tokenizer=custom_tokenizer)\n"
   ]
  },
  {
   "cell_type": "code",
   "execution_count": null,
   "metadata": {},
   "outputs": [],
   "source": [
    "import os\n",
    "\n",
    "# Generate list of processed .txt files to summarize\n",
    "docs = os.listdir(\"/root/Filtered\")\n",
    "\n",
    "\n",
    "# Iterate through processed .txt files and generate summaries and write to file\n",
    "for doc in docs:\n",
    "    \n",
    "    with open('/root/Filtered/'+ doc, \"r\") as in_f:\n",
    "        body = in_f.read()\n",
    "    \n",
    "    summary = ''.join(summed(body, num_sentences = 5))\n",
    "    \n",
    "    path = \"/root/Summary/\" + doc[:-4] + \"_SUMMARY.txt\"\n",
    "    \n",
    "    with open(path, \"w\") as out_f:\n",
    "        out_f.write(summary)"
   ]
  },
  {
   "cell_type": "code",
   "execution_count": null,
   "metadata": {},
   "outputs": [],
   "source": [
    "#uploading to AWS S3 Bucket\n",
    "\n",
    "s3 = boto3.resource('s3')\n",
    "\n",
    "bucket = sess.default_bucket()   \n",
    "\n",
    "txtfiles = os.listdir(\"/root/Summary\")\n",
    "\n",
    "for txtfile in txtfiles:\n",
    "    fpath = '/root/Summary/' + txtfile\n",
    "    s3.meta.client.upload_file(fpath, bucket, txtfile)\n"
   ]
  }
 ],
 "metadata": {
  "instance_type": "ml.g4dn.xlarge",
  "kernelspec": {
   "display_name": "Python 3",
   "language": "python",
   "name": "python3"
  },
  "language_info": {
   "codemirror_mode": {
    "name": "ipython",
    "version": 3
   },
   "file_extension": ".py",
   "mimetype": "text/x-python",
   "name": "python",
   "nbconvert_exporter": "python",
   "pygments_lexer": "ipython3",
   "version": "3.8.2"
  }
 },
 "nbformat": 4,
 "nbformat_minor": 4
}
