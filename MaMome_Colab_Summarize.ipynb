{
  "nbformat": 4,
  "nbformat_minor": 0,
  "metadata": {
    "colab": {
      "name": "MaMome_Colab_Summarize.ipynb",
      "provenance": [],
      "collapsed_sections": [],
      "authorship_tag": "ABX9TyOS73EGB7YS53gnA7H+Nrwo",
      "include_colab_link": true
    },
    "kernelspec": {
      "name": "python3",
      "display_name": "Python 3"
    }
  },
  "cells": [
    {
      "cell_type": "markdown",
      "metadata": {
        "id": "view-in-github",
        "colab_type": "text"
      },
      "source": [
        "<a href=\"https://colab.research.google.com/github/lynetteshaw/MaMome_summarize/blob/master/MaMome_Colab_Summarize.ipynb\" target=\"_parent\"><img src=\"https://colab.research.google.com/assets/colab-badge.svg\" alt=\"Open In Colab\"/></a>"
      ]
    },
    {
      "cell_type": "markdown",
      "metadata": {
        "id": "Y48YlGPw7zdS"
      },
      "source": [
        "# **Dashboard Setup**\n",
        "\n",
        "Run this cell first to get the environment, packages, and url setup for the Dashboard\n"
      ]
    },
    {
      "cell_type": "code",
      "metadata": {
        "id": "Q55uqLBpC21R",
        "outputId": "fda9de97-a261-4b03-9ff3-4a45bd9620a6",
        "colab": {
          "base_uri": "https://localhost:8080/",
          "height": 269
        }
      },
      "source": [
        "!pip install streamlit -q\n",
        "!pip install pyngrok -q\n",
        "!ngrok authtoken 1iwIS4Ml1m1oSiAnHYMfeNoTFsX_545zXJdgo9PNrm5PVvu5u\n",
        "\n",
        "from pyngrok import ngrok\n",
        "public_url = ngrok.connect(port = '8501')"
      ],
      "execution_count": 3,
      "outputs": [
        {
          "output_type": "stream",
          "text": [
            "\u001b[K     |████████████████████████████████| 7.4MB 2.7MB/s \n",
            "\u001b[K     |████████████████████████████████| 163kB 50.6MB/s \n",
            "\u001b[K     |████████████████████████████████| 112kB 51.5MB/s \n",
            "\u001b[K     |████████████████████████████████| 102kB 10.3MB/s \n",
            "\u001b[K     |████████████████████████████████| 6.7MB 45.4MB/s \n",
            "\u001b[K     |████████████████████████████████| 4.4MB 52.9MB/s \n",
            "\u001b[K     |████████████████████████████████| 133kB 53.1MB/s \n",
            "\u001b[K     |████████████████████████████████| 71kB 8.5MB/s \n",
            "\u001b[K     |████████████████████████████████| 122kB 48.9MB/s \n",
            "\u001b[K     |████████████████████████████████| 71kB 8.1MB/s \n",
            "\u001b[?25h  Building wheel for blinker (setup.py) ... \u001b[?25l\u001b[?25hdone\n",
            "  Building wheel for watchdog (setup.py) ... \u001b[?25l\u001b[?25hdone\n",
            "  Building wheel for pathtools (setup.py) ... \u001b[?25l\u001b[?25hdone\n",
            "\u001b[31mERROR: google-colab 1.0.0 has requirement ipykernel~=4.10, but you'll have ipykernel 5.3.4 which is incompatible.\u001b[0m\n",
            "  Building wheel for pyngrok (setup.py) ... \u001b[?25l\u001b[?25hdone\n"
          ],
          "name": "stdout"
        }
      ]
    },
    {
      "cell_type": "markdown",
      "metadata": {
        "id": "smIOM2NN8LLN"
      },
      "source": [
        "# **Connect to Google Drive Folder**\n",
        "\n",
        "This will connect the notebook to the files stored in Google Drive. You will need to follow the link and sign into your Google account where you have stored \"MaMomeDashboard\" folder.\n",
        "\n",
        "\n",
        "**VERY IMPORTANT**: To work correctly, the MaMomeDashboard *must* be in the top-level directory of the Google Drive you log into (i.e. you **cannot** place the MaMomeDashbord folder inside any other folder on your drive!!!)  "
      ]
    },
    {
      "cell_type": "code",
      "metadata": {
        "id": "-0JFhTo3ERaK",
        "outputId": "b486451f-4744-497d-bac8-48d2e8398795",
        "colab": {
          "base_uri": "https://localhost:8080/",
          "height": 34
        }
      },
      "source": [
        "from google.colab import drive\n",
        "drive.mount('/content/drive')\n",
        "\n",
        "!cp /content/drive/My\\ Drive/MaMomeDashboard/main_colab.py /content"
      ],
      "execution_count": 15,
      "outputs": [
        {
          "output_type": "stream",
          "text": [
            "Drive already mounted at /content/drive; to attempt to forcibly remount, call drive.mount(\"/content/drive\", force_remount=True).\n"
          ],
          "name": "stdout"
        }
      ]
    },
    {
      "cell_type": "markdown",
      "metadata": {
        "id": "4DjYpSof9Cxg"
      },
      "source": [
        "# Open Dashboard\n",
        "\n",
        "To open dashboard, run the cell below, and then copy&paste the URL it produces into a web browser to be taken to the Dashboard."
      ]
    },
    {
      "cell_type": "code",
      "metadata": {
        "id": "JPuhLRHyHvvx",
        "outputId": "9fd3b531-b44e-4902-f104-46d6b3fe6710",
        "colab": {
          "base_uri": "https://localhost:8080/",
          "height": 34
        }
      },
      "source": [
        "!streamlit run main_colab.py&>/dev/null&\n",
        "public_url"
      ],
      "execution_count": 4,
      "outputs": [
        {
          "output_type": "stream",
          "text": [
            "Authtoken saved to configuration file: /root/.ngrok2/ngrok.yml\n"
          ],
          "name": "stdout"
        }
      ]
    },
    {
      "cell_type": "markdown",
      "metadata": {
        "id": "DnMSy3EY7igW"
      },
      "source": [
        "# **Shutdown Dashboard**\n",
        "\n",
        "Run the cell below to shutdown the Dashboard. Even if you don't, the Dashboard will eventually time out and need to be restarted again.\n",
        "\n",
        "**IMPORTANT NOTE:** Anytime you summarize new articles or remove currently summarized ones, you will need to shutdown the Dashboard and restart it.\n"
      ]
    },
    {
      "cell_type": "code",
      "metadata": {
        "id": "PnEGpdc1T73F",
        "outputId": "a4f2c55d-1f8f-4c98-a903-3c6a97d08bfb",
        "colab": {
          "base_uri": "https://localhost:8080/",
          "height": 269
        }
      },
      "source": [
        "ngrok.kill()\n",
        "!pgrep streamlit | xargs kill"
      ],
      "execution_count": 17,
      "outputs": [
        {
          "output_type": "stream",
          "text": [
            "\n",
            "Usage:\n",
            " kill [options] <pid> [...]\n",
            "\n",
            "Options:\n",
            " <pid> [...]            send signal to every <pid> listed\n",
            " -<signal>, -s, --signal <signal>\n",
            "                        specify the <signal> to be sent\n",
            " -l, --list=[<signal>]  list all signal names, or convert one to a name\n",
            " -L, --table            list all signal names in a nice table\n",
            "\n",
            " -h, --help     display this help and exit\n",
            " -V, --version  output version information and exit\n",
            "\n",
            "For more details see kill(1).\n"
          ],
          "name": "stdout"
        }
      ]
    },
    {
      "cell_type": "code",
      "metadata": {
        "id": "P0LYDkni9a4X"
      },
      "source": [
        ""
      ],
      "execution_count": null,
      "outputs": []
    }
  ]
}